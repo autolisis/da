{
 "cells": [
  {
   "cell_type": "code",
   "execution_count": 1,
   "metadata": {},
   "outputs": [],
   "source": [
    "import json\n",
    "import pandas as pd\n",
    "\n",
    "\n",
    "with open('b.json') as f:\n",
    "    raw = json.load(f)"
   ]
  },
  {
   "cell_type": "code",
   "execution_count": 2,
   "metadata": {},
   "outputs": [],
   "source": [
    "data = [[str(y) for y in x] for x in raw]\n",
    "del raw"
   ]
  },
  {
   "cell_type": "code",
   "execution_count": 3,
   "metadata": {},
   "outputs": [
    {
     "name": "stdout",
     "output_type": "stream",
     "text": [
      "[('15846407', 9112), ('17919972', 7452), ('27260086', 6839), ('181561712', 6451), ('221412285', 6254), ('59325073', 6221), ('15485441', 6199), ('266336410', 6140), ('34507480', 6008), ('25365536', 5972)]\n9112\n"
     ]
    }
   ],
   "source": [
    "from collections import Counter\n",
    "# \n",
    "# d = Counter()\n",
    "# \n",
    "# for row in data:\n",
    "#     for col in row:\n",
    "#         d[col] += 1\n",
    "# with open('counter-pick', 'wb') as f:\n",
    "#     pickle.dump(d, f)\n",
    "with open('counter-pick', 'rb') as f:\n",
    "    d = pickle.load(f)\n",
    "print(d.most_common(10))\n",
    "print(d['15846407'])"
   ]
  },
  {
   "cell_type": "code",
   "execution_count": 2,
   "metadata": {},
   "outputs": [],
   "source": [
    "import pickle\n",
    "# txns = []\n",
    "# for row in data[:40000]:\n",
    "#     row = sorted(row, key=lambda x: d[x], reverse=True) \n",
    "#     txns.append(row[:5])\n",
    "# \n",
    "# with open('txns-dump', 'wb') as f:\n",
    "#     pickle.dump(txns, f)\n",
    "with open('txns-dump', 'rb') as f:\n",
    "    txns = pickle.load(f)"
   ]
  },
  {
   "cell_type": "code",
   "execution_count": 8,
   "metadata": {},
   "outputs": [],
   "source": [
    "from pyfpgrowth import generate_association_rules, find_frequent_patterns"
   ]
  },
  {
   "cell_type": "code",
   "execution_count": 13,
   "metadata": {},
   "outputs": [
    {
     "name": "stdout",
     "output_type": "stream",
     "text": [
      "41\n"
     ]
    },
    {
     "ename": "KeyError",
     "evalue": "0",
     "traceback": [
      "\u001b[0;31m---------------------------------------------------------------------------\u001b[0m",
      "\u001b[0;31mKeyError\u001b[0m                                  Traceback (most recent call last)",
      "\u001b[0;32m<ipython-input-13-b45054f9499f>\u001b[0m in \u001b[0;36m<module>\u001b[0;34m\u001b[0m\n\u001b[1;32m      2\u001b[0m \u001b[0mrules\u001b[0m \u001b[0;34m=\u001b[0m \u001b[0mgenerate_association_rules\u001b[0m\u001b[0;34m(\u001b[0m\u001b[0mpatterns\u001b[0m\u001b[0;34m,\u001b[0m \u001b[0;36m0.2\u001b[0m\u001b[0;34m)\u001b[0m\u001b[0;34m\u001b[0m\u001b[0;34m\u001b[0m\u001b[0m\n\u001b[1;32m      3\u001b[0m \u001b[0mprint\u001b[0m\u001b[0;34m(\u001b[0m\u001b[0mlen\u001b[0m\u001b[0;34m(\u001b[0m\u001b[0mrules\u001b[0m\u001b[0;34m)\u001b[0m\u001b[0;34m)\u001b[0m\u001b[0;34m\u001b[0m\u001b[0;34m\u001b[0m\u001b[0m\n\u001b[0;32m----> 4\u001b[0;31m \u001b[0mprint\u001b[0m\u001b[0;34m(\u001b[0m\u001b[0mrules\u001b[0m\u001b[0;34m[\u001b[0m\u001b[0;36m0\u001b[0m\u001b[0;34m]\u001b[0m\u001b[0;34m)\u001b[0m\u001b[0;34m\u001b[0m\u001b[0;34m\u001b[0m\u001b[0m\n\u001b[0m",
      "\u001b[0;31mKeyError\u001b[0m: 0"
     ],
     "output_type": "error"
    }
   ],
   "source": [
    "patterns = find_frequent_patterns(txns, 0.02 * len(txns))\n",
    "rules = generate_association_rules(patterns, 0.2)\n",
    "print(len(rules))\n"
   ]
  },
  {
   "cell_type": "code",
   "execution_count": 16,
   "metadata": {},
   "outputs": [
    {
     "name": "stdout",
     "output_type": "stream",
     "text": [
      "('176566242',)\n('53338746',)\n('23375688',)\n('105119490',)\n('1536791610',)\n('169686021',)\n('27195114',)\n('16712746', '59325073')\n('266336410', '59325073')\n('16712746', '221412285')\n('221412285', '266336410')\n('16712746', '221412285', '266336410')\n('16712746', '221412285', '59325073')\n('16712746', '266336410', '59325073')\n('221412285', '266336410', '59325073')\n('221412285', '59325073')\n('15846407', '34507480')\n('17919972', '34507480')\n('17919972',)\n('17919972', '27260086')\n('27260086', '34507480')\n('15485441', '15846407')\n('15485441', '813286')\n('15846407', '813286')\n('15485441', '181561712')\n('15485441', '17919972')\n('15846407', '27260086')\n('15846407', '17919972')\n('15846407',)\n('27260086', '59325073')\n('17919972', '59325073')\n('15846407', '221412285')\n('15846407', '59325073')\n('181561712', '221412285')\n('181561712', '59325073')\n('181561712', '27260086')\n('17919972', '181561712')\n('15846407', '17919972', '181561712')\n('15846407', '17919972', '27260086')\n('15846407', '181561712', '27260086')\n('17919972', '181561712', '27260086')\n"
     ]
    }
   ],
   "source": [
    "for item in rules:\n",
    "    print(item)"
   ]
  }
 ],
 "metadata": {
  "kernelspec": {
   "display_name": "Python 3",
   "language": "python",
   "name": "python3"
  },
  "language_info": {
   "codemirror_mode": {
    "name": "ipython",
    "version": 3
   },
   "file_extension": ".py",
   "mimetype": "text/x-python",
   "name": "python",
   "nbconvert_exporter": "python",
   "pygments_lexer": "ipython3",
   "version": "3.7.1"
  }
 },
 "nbformat": 4,
 "nbformat_minor": 2
}
