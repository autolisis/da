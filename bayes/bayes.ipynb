{
 "cells": [
  {
   "cell_type": "code",
   "execution_count": 1,
   "metadata": {
    "collapsed": true
   },
   "outputs": [],
   "source": [
    "import pickle\n",
    "with open('temp', 'rb') as f:\n",
    "    tweets_list = pickle.load(f)"
   ]
  },
  {
   "cell_type": "code",
   "execution_count": 2,
   "metadata": {},
   "outputs": [
    {
     "name": "stderr",
     "output_type": "stream",
     "text": [
      "/usr/lib/python3.7/site-packages/ipykernel_launcher.py:5: SettingWithCopyWarning: \nA value is trying to be set on a copy of a slice from a DataFrame.\nTry using .loc[row_indexer,col_indexer] = value instead\n\nSee the caveats in the documentation: http://pandas.pydata.org/pandas-docs/stable/indexing.html#indexing-view-versus-copy\n  \"\"\"\n/usr/lib/python3.7/site-packages/ipykernel_launcher.py:6: SettingWithCopyWarning: \nA value is trying to be set on a copy of a slice from a DataFrame\n\nSee the caveats in the documentation: http://pandas.pydata.org/pandas-docs/stable/indexing.html#indexing-view-versus-copy\n  \n"
     ]
    }
   ],
   "source": [
    "import pandas as pd\n",
    "df = pd.read_csv('brand-classifier.csv', encoding='latin1')\n",
    "work_data = df[['description', 'gender']]\n",
    "work_data['filtered'] = work_data.gender.apply(\n",
    "    lambda x: 1 if x == 'brand' else 0)\n",
    "work_data.dropna(inplace=True)"
   ]
  },
  {
   "cell_type": "code",
   "execution_count": 15,
   "metadata": {},
   "outputs": [
    {
     "name": "stdout",
     "output_type": "stream",
     "text": [
      "       gender  filtered\n0        male         0\n1        male         0\n2        male         0\n3        male         0\n4      female         0\n5      female         0\n6       brand         1\n7        male         0\n8      female         0\n9      female         0\n10      brand         1\n11      brand         1\n12     female         0\n13      brand         1\n14     female         0\n16     female         0\n17       male         0\n20     female         0\n21     female         0\n22     female         0\n23       male         0\n24       male         0\n25     female         0\n26      brand         1\n27      brand         1\n28     female         0\n29       male         0\n30      brand         1\n31       male         0\n32     female         0\n...       ...       ...\n20016  female         0\n20018    male         0\n20019    male         0\n20020   brand         1\n20021    male         0\n20022    male         0\n20024   brand         1\n20025   brand         1\n20026    male         0\n20028  female         0\n20029   brand         1\n20030   brand         1\n20032    male         0\n20033  female         0\n20034   brand         1\n20035  female         0\n20036  female         0\n20037    male         0\n20038   brand         1\n20039  female         0\n20040    male         0\n20041   brand         1\n20042   brand         1\n20043    male         0\n20044  female         0\n20045  female         0\n20046    male         0\n20047    male         0\n20048  female         0\n20049  female         0\n\n[16224 rows x 2 columns]\n"
     ]
    }
   ],
   "source": [
    "print(work_data[['gender', 'filtered']])"
   ]
  },
  {
   "cell_type": "code",
   "execution_count": 3,
   "metadata": {},
   "outputs": [],
   "source": [
    "from sklearn.feature_extraction.text import CountVectorizer\n",
    "countVectorizer = CountVectorizer(stop_words='english', max_features=500)\n",
    "mat = countVectorizer.fit_transform(tweets_list).toarray()"
   ]
  },
  {
   "cell_type": "code",
   "execution_count": 16,
   "metadata": {},
   "outputs": [
    {
     "name": "stdout",
     "output_type": "stream",
     "text": [
      "12979\n"
     ]
    }
   ],
   "source": [
    "y = work_data.filtered\n",
    "x = mat\n",
    "\n",
    "from sklearn.model_selection import train_test_split\n",
    "train_x, test_x, train_y, test_y = train_test_split(x,y,test_size=0.2)\n",
    "print(len(train_x))"
   ]
  },
  {
   "cell_type": "code",
   "execution_count": 17,
   "metadata": {},
   "outputs": [
    {
     "data": {
      "text/plain": [
       "0.7306625577812018"
      ]
     },
     "execution_count": 17,
     "metadata": {},
     "output_type": "execute_result"
    }
   ],
   "source": [
    "from sklearn.svm import SVC\n",
    "from sklearn.naive_bayes import MultinomialNB\n",
    "c = MultinomialNB()\n",
    "c.fit(train_x, train_y)\n",
    "\n",
    "c.score(test_x, test_y)"
   ]
  },
  {
   "cell_type": "code",
   "execution_count": 18,
   "metadata": {},
   "outputs": [],
   "source": [
    "from sklearn.metrics import confusion_matrix\n",
    "import seaborn as sns\n",
    "import numpy as np\n",
    "import matplotlib.pyplot as plt\n",
    "\n",
    "y_pred = c.predict(test_x)\n",
    "\n",
    "cm = confusion_matrix(test_y, y_pred)\n",
    "cm = cm.astype('float') / cm.sum(axis=1)[:, np.newaxis]\n",
    "sns.heatmap(cm, cbar=False, annot=True, cmap=\"Blues\", fmt=\".2f\")\n",
    "plt.show()"
   ]
  },
  {
   "cell_type": "code",
   "execution_count": null,
   "metadata": {},
   "outputs": [],
   "source": []
  }
 ],
 "metadata": {
  "kernelspec": {
   "display_name": "Python 2",
   "language": "python",
   "name": "python2"
  },
  "language_info": {
   "codemirror_mode": {
    "name": "ipython",
    "version": 2
   },
   "file_extension": ".py",
   "mimetype": "text/x-python",
   "name": "python",
   "nbconvert_exporter": "python",
   "pygments_lexer": "ipython2",
   "version": "2.7.6"
  }
 },
 "nbformat": 4,
 "nbformat_minor": 0
}
